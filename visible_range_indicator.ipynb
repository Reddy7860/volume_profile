{
 "cells": [
  {
   "cell_type": "code",
   "execution_count": 10,
   "id": "c31261ea",
   "metadata": {},
   "outputs": [
    {
     "name": "stdout",
     "output_type": "stream",
     "text": [
      "[*********************100%%**********************]  1 of 1 completed\n"
     ]
    },
    {
     "data": {
      "image/png": "[encoded data removed]",
      "text/plain": [
       "<Figure size 720x432 with 1 Axes>"
      ]
     },
     "metadata": {
      "needs_background": "light"
     },
     "output_type": "display_data"
    }
   ],
   "source": [
    "import yfinance as yf\n",
    "import numpy as np\n",
    "import pandas as pd\n",
    "import matplotlib.pyplot as plt\n",
    "\n",
    "def fetch_stock_data(ticker, start, interval='5m'):\n",
    "    \"\"\"\n",
    "    Fetch stock data from Yahoo Finance.\n",
    "    :param ticker: Stock ticker symbol\n",
    "    :param start: Start date for data (YYYY-MM-DD)\n",
    "    :param interval: Data interval (e.g., '1d', '5m')\n",
    "    :return: DataFrame with stock data\n",
    "    \"\"\"\n",
    "    stock_data = yf.download(ticker, start=start, interval=interval)\n",
    "    return stock_data\n",
    "\n",
    "def calculate_volume_profile(data, bins=100):\n",
    "    \"\"\"\n",
    "    Calculate the volume profile.\n",
    "    :param data: DataFrame with stock data\n",
    "    :param bins: Number of bins for price levels\n",
    "    :return: volume profile DataFrame\n",
    "    \"\"\"\n",
    "    price_min = data['Low'].min()\n",
    "    price_max = data['High'].max()\n",
    "    bin_edges = np.linspace(price_min, price_max, bins)\n",
    "    \n",
    "    volume_profile = pd.DataFrame(index=bin_edges[:-1], columns=['Volume'])\n",
    "    volume_profile['Volume'] = 0\n",
    "\n",
    "    for index, row in data.iterrows():\n",
    "        # Determine which bins the high and low price fall into\n",
    "        bin_indices = np.digitize([row['Low'], row['High']], bin_edges) - 1\n",
    "        \n",
    "        # Ensure bin indices are within the valid range\n",
    "        bin_indices = [max(0, min(bins-2, b)) for b in bin_indices]\n",
    "        \n",
    "        # Increment volume in corresponding bins\n",
    "        for i in range(bin_indices[0], bin_indices[1] + 1):\n",
    "            volume_profile.iloc[i] += row['Volume']\n",
    "        \n",
    "    return volume_profile\n",
    "\n",
    "def plot_volume_profile(volume_profile):\n",
    "    \"\"\"\n",
    "    Plot the volume profile.\n",
    "    :param volume_profile: DataFrame with volume profile\n",
    "    \"\"\"\n",
    "    plt.figure(figsize=(10, 6))\n",
    "    plt.barh(volume_profile.index, volume_profile['Volume'], height=volume_profile.index[1] - volume_profile.index[0])\n",
    "    plt.xlabel('Volume')\n",
    "    plt.ylabel('Price')\n",
    "    plt.title('Volume Profile')\n",
    "    plt.show()\n",
    "\n",
    "# Example usage\n",
    "ticker = 'AAPL'\n",
    "start_date = '2024-07-16'\n",
    "\n",
    "data = fetch_stock_data(ticker, start=start_date, interval='5m')\n",
    "volume_profile = calculate_volume_profile(data, bins=100)\n",
    "plot_volume_profile(volume_profile)\n"
   ]
  },
  {
   "cell_type": "code",
   "execution_count": 12,
   "id": "33fb34e1",
   "metadata": {},
   "outputs": [
    {
     "name": "stdout",
     "output_type": "stream",
     "text": [
      "[*********************100%%**********************]  1 of 1 completed\n"
     ]
    },
    {
     "data": {
      "image/png": "[encoded data removed]",
      "text/plain": [
       "<Figure size 720x432 with 1 Axes>"
      ]
     },
     "metadata": {
      "needs_background": "light"
     },
     "output_type": "display_data"
    }
   ],
   "source": [
    "import yfinance as yf\n",
    "import numpy as np\n",
    "import pandas as pd\n",
    "import matplotlib.pyplot as plt\n",
    "\n",
    "def fetch_stock_data(ticker, start, interval='5m'):\n",
    "    \"\"\"\n",
    "    Fetch stock data from Yahoo Finance.\n",
    "    :param ticker: Stock ticker symbol\n",
    "    :param start: Start date for data (YYYY-MM-DD)\n",
    "    :param interval: Data interval (e.g., '1d', '5m')\n",
    "    :return: DataFrame with stock data\n",
    "    \"\"\"\n",
    "    stock_data = yf.download(ticker, start=start, interval=interval)\n",
    "    return stock_data\n",
    "\n",
    "def calculate_volume_profile(data, bins=100):\n",
    "    \"\"\"\n",
    "    Calculate the volume profile.\n",
    "    :param data: DataFrame with stock data\n",
    "    :param bins: Number of bins for price levels\n",
    "    :return: volume profile DataFrame with buy and sell volumes\n",
    "    \"\"\"\n",
    "    price_min = data['Low'].min()\n",
    "    price_max = data['High'].max()\n",
    "    bin_edges = np.linspace(price_min, price_max, bins)\n",
    "    \n",
    "    volume_profile = pd.DataFrame(index=bin_edges[:-1], columns=['Buy Volume', 'Sell Volume'])\n",
    "    volume_profile['Buy Volume'] = 0\n",
    "    volume_profile['Sell Volume'] = 0\n",
    "\n",
    "    for index, row in data.iterrows():\n",
    "        # Determine which bins the high and low price fall into\n",
    "        bin_indices = np.digitize([row['Low'], row['High']], bin_edges) - 1\n",
    "        \n",
    "        # Ensure bin indices are within the valid range\n",
    "        bin_indices = [max(0, min(bins-2, b)) for b in bin_indices]\n",
    "        \n",
    "        # Separate buy and sell volumes\n",
    "        if row['Close'] > row['Open']:\n",
    "            volume_profile.iloc[bin_indices[0]:bin_indices[1] + 1, volume_profile.columns.get_loc('Buy Volume')] += row['Volume']\n",
    "        else:\n",
    "            volume_profile.iloc[bin_indices[0]:bin_indices[1] + 1, volume_profile.columns.get_loc('Sell Volume')] += row['Volume']\n",
    "        \n",
    "    return volume_profile\n",
    "\n",
    "def plot_volume_profile(volume_profile):\n",
    "    \"\"\"\n",
    "    Plot the volume profile with buy and sell volumes.\n",
    "    :param volume_profile: DataFrame with volume profile\n",
    "    \"\"\"\n",
    "    plt.figure(figsize=(10, 6))\n",
    "    plt.barh(volume_profile.index, volume_profile['Buy Volume'], height=volume_profile.index[1] - volume_profile.index[0], color='blue', alpha=0.6, label='Buy Volume')\n",
    "    plt.barh(volume_profile.index, volume_profile['Sell Volume'], height=volume_profile.index[1] - volume_profile.index[0], color='red', alpha=0.6, label='Sell Volume', left=volume_profile['Buy Volume'])\n",
    "    plt.xlabel('Volume')\n",
    "    plt.ylabel('Price')\n",
    "    plt.title('Volume Profile with Buy and Sell Volumes')\n",
    "    plt.legend()\n",
    "    plt.show()\n",
    "\n",
    "# Example usage\n",
    "ticker = 'CAT'\n",
    "start_date = '2024-07-16'\n",
    "\n",
    "data = fetch_stock_data(ticker, start=start_date, interval='5m')\n",
    "volume_profile = calculate_volume_profile(data, bins=100)\n",
    "plot_volume_profile(volume_profile)\n"
   ]
  },
  {
   "cell_type": "code",
   "execution_count": 5,
   "id": "ed5e5818",
   "metadata": {},
   "outputs": [
    {
     "name": "stdout",
     "output_type": "stream",
     "text": [
      "[*********************100%%**********************]  1 of 1 completed\n",
      "Buy volume only prices:\n",
      "[223.27 - 223.31] with detailed volumes: {223.27499389648438: 80011, 223.31060004956794: 80011}\n",
      "\n",
      "Sell volume only prices:\n"
     ]
    }
   ],
   "source": [
    "import yfinance as yf\n",
    "import numpy as np\n",
    "import pandas as pd\n",
    "\n",
    "def fetch_stock_data(ticker, start, interval='5m'):\n",
    "    \"\"\"\n",
    "    Fetch stock data from Yahoo Finance.\n",
    "    :param ticker: Stock ticker symbol\n",
    "    :param start: Start date for data (YYYY-MM-DD)\n",
    "    :param interval: Data interval (e.g., '1d', '5m')\n",
    "    :return: DataFrame with stock data\n",
    "    \"\"\"\n",
    "    stock_data = yf.download(ticker, start=start, interval=interval)\n",
    "    return stock_data\n",
    "\n",
    "def calculate_volume_profile(data, bins=100):\n",
    "    \"\"\"\n",
    "    Calculate the volume profile.\n",
    "    :param data: DataFrame with stock data\n",
    "    :param bins: Number of bins for price levels\n",
    "    :return: volume profile DataFrame with buy and sell volumes\n",
    "    \"\"\"\n",
    "    price_min = data['Low'].min()\n",
    "    price_max = data['High'].max()\n",
    "    bin_edges = np.linspace(price_min, price_max, bins)\n",
    "    \n",
    "    volume_profile = pd.DataFrame(index=bin_edges[:-1], columns=['Buy Volume', 'Sell Volume'])\n",
    "    volume_profile['Buy Volume'] = 0\n",
    "    volume_profile['Sell Volume'] = 0\n",
    "\n",
    "    for index, row in data.iterrows():\n",
    "        # Determine which bins the high and low price fall into\n",
    "        bin_indices = np.digitize([row['Low'], row['High']], bin_edges) - 1\n",
    "        \n",
    "        # Ensure bin indices are within the valid range\n",
    "        bin_indices = [max(0, min(bins-2, b)) for b in bin_indices]\n",
    "        \n",
    "        # Separate buy and sell volumes\n",
    "        for i in range(bin_indices[0], bin_indices[1] + 1):\n",
    "            if row['Close'] > row['Open']:\n",
    "                volume_profile.iloc[i, volume_profile.columns.get_loc('Buy Volume')] += row['Volume']\n",
    "            else:\n",
    "                volume_profile.iloc[i, volume_profile.columns.get_loc('Sell Volume')] += row['Volume']\n",
    "        \n",
    "    return volume_profile\n",
    "\n",
    "def identify_volume_ranges(volume_profile):\n",
    "    \"\"\"\n",
    "    Identify and print ranges with only buy or sell volumes.\n",
    "    :param volume_profile: DataFrame with volume profile\n",
    "    \"\"\"\n",
    "    buy_ranges = []\n",
    "    sell_ranges = []\n",
    "    buy_range = []\n",
    "    sell_range = []\n",
    "\n",
    "    for price, row in volume_profile.iterrows():\n",
    "        if row['Buy Volume'] > 0 and row['Sell Volume'] == 0:\n",
    "            if not buy_range:\n",
    "                buy_range = [price]\n",
    "            buy_range.append(price)\n",
    "        else:\n",
    "            if buy_range:\n",
    "                buy_ranges.append(buy_range)\n",
    "                buy_range = []\n",
    "\n",
    "        if row['Sell Volume'] > 0 and row['Buy Volume'] == 0:\n",
    "            if not sell_range:\n",
    "                sell_range = [price]\n",
    "            sell_range.append(price)\n",
    "        else:\n",
    "            if sell_range:\n",
    "                sell_ranges.append(sell_range)\n",
    "                sell_range = []\n",
    "\n",
    "    if buy_range:\n",
    "        buy_ranges.append(buy_range)\n",
    "    if sell_range:\n",
    "        sell_ranges.append(sell_range)\n",
    "\n",
    "    print(\"Buy volume only prices:\")\n",
    "    for r in buy_ranges:\n",
    "        print(f\"[{r[0]:.2f} - {r[-1]:.2f}] with detailed volumes: {volume_profile.loc[r[0]:r[-1], 'Buy Volume'].to_dict()}\")\n",
    "\n",
    "    print(\"\\nSell volume only prices:\")\n",
    "    for r in sell_ranges:\n",
    "        print(f\"[{r[0]:.2f} - {r[-1]:.2f}] with detailed volumes: {volume_profile.loc[r[0]:r[-1], 'Sell Volume'].to_dict()}\")\n",
    "\n",
    "# Example usage\n",
    "ticker = 'AAPL'\n",
    "start_date = '2024-07-19'\n",
    "\n",
    "data = fetch_stock_data(ticker, start=start_date, interval='1m')\n",
    "volume_profile = calculate_volume_profile(data, bins=100)\n",
    "identify_volume_ranges(volume_profile)\n"
   ]
  },
  {
   "cell_type": "code",
   "execution_count": 36,
   "id": "b165d1ff",
   "metadata": {},
   "outputs": [
    {
     "name": "stdout",
     "output_type": "stream",
     "text": [
      "[*********************100%%**********************]  1 of 1 completed\n"
     ]
    }
   ],
   "source": [
    "ticker = 'AAPL'\n",
    "start_date = '2024-07-18'\n",
    "interval='5m'\n",
    "data = yf.download(ticker, start=start_date, interval=interval)\n",
    "\n",
    "data.reset_index(inplace=True,drop=False)\n",
    "\n"
   ]
  },
  {
   "cell_type": "code",
   "execution_count": 29,
   "id": "29139861",
   "metadata": {},
   "outputs": [
    {
     "data": {
      "text/html": [
       "<div>\n",
       "<style scoped>\n",
       "    .dataframe tbody tr th:only-of-type {\n",
       "        vertical-align: middle;\n",
       "    }\n",
       "\n",
       "    .dataframe tbody tr th {\n",
       "        vertical-align: top;\n",
       "    }\n",
       "\n",
       "    .dataframe thead th {\n",
       "        text-align: right;\n",
       "    }\n",
       "</style>\n",
       "<table border=\"1\" class=\"dataframe\">\n",
       "  <thead>\n",
       "    <tr style=\"text-align: right;\">\n",
       "      <th></th>\n",
       "      <th>Datetime</th>\n",
       "      <th>Open</th>\n",
       "      <th>High</th>\n",
       "      <th>Low</th>\n",
       "      <th>Close</th>\n",
       "      <th>Adj Close</th>\n",
       "      <th>Volume</th>\n",
       "    </tr>\n",
       "  </thead>\n",
       "  <tbody>\n",
       "    <tr>\n",
       "      <th>0</th>\n",
       "      <td>2024-07-19 09:30:00-04:00</td>\n",
       "      <td>247.720993</td>\n",
       "      <td>249.009995</td>\n",
       "      <td>246.600006</td>\n",
       "      <td>247.649002</td>\n",
       "      <td>247.649002</td>\n",
       "      <td>4777046</td>\n",
       "    </tr>\n",
       "    <tr>\n",
       "      <th>1</th>\n",
       "      <td>2024-07-19 09:35:00-04:00</td>\n",
       "      <td>247.550095</td>\n",
       "      <td>248.990005</td>\n",
       "      <td>245.222000</td>\n",
       "      <td>247.154999</td>\n",
       "      <td>247.154999</td>\n",
       "      <td>2478581</td>\n",
       "    </tr>\n",
       "    <tr>\n",
       "      <th>2</th>\n",
       "      <td>2024-07-19 09:40:00-04:00</td>\n",
       "      <td>247.149994</td>\n",
       "      <td>247.889999</td>\n",
       "      <td>245.660004</td>\n",
       "      <td>245.690002</td>\n",
       "      <td>245.690002</td>\n",
       "      <td>1665298</td>\n",
       "    </tr>\n",
       "    <tr>\n",
       "      <th>3</th>\n",
       "      <td>2024-07-19 09:45:00-04:00</td>\n",
       "      <td>245.669998</td>\n",
       "      <td>246.039993</td>\n",
       "      <td>244.399994</td>\n",
       "      <td>245.020004</td>\n",
       "      <td>245.020004</td>\n",
       "      <td>2526077</td>\n",
       "    </tr>\n",
       "    <tr>\n",
       "      <th>4</th>\n",
       "      <td>2024-07-19 09:50:00-04:00</td>\n",
       "      <td>244.979996</td>\n",
       "      <td>247.710007</td>\n",
       "      <td>244.770004</td>\n",
       "      <td>246.539993</td>\n",
       "      <td>246.539993</td>\n",
       "      <td>2289072</td>\n",
       "    </tr>\n",
       "  </tbody>\n",
       "</table>\n",
       "</div>"
      ],
      "text/plain": [
       "                   Datetime        Open        High         Low       Close  \\\n",
       "0 2024-07-19 09:30:00-04:00  247.720993  249.009995  246.600006  247.649002   \n",
       "1 2024-07-19 09:35:00-04:00  247.550095  248.990005  245.222000  247.154999   \n",
       "2 2024-07-19 09:40:00-04:00  247.149994  247.889999  245.660004  245.690002   \n",
       "3 2024-07-19 09:45:00-04:00  245.669998  246.039993  244.399994  245.020004   \n",
       "4 2024-07-19 09:50:00-04:00  244.979996  247.710007  244.770004  246.539993   \n",
       "\n",
       "    Adj Close   Volume  \n",
       "0  247.649002  4777046  \n",
       "1  247.154999  2478581  \n",
       "2  245.690002  1665298  \n",
       "3  245.020004  2526077  \n",
       "4  246.539993  2289072  "
      ]
     },
     "execution_count": 29,
     "metadata": {},
     "output_type": "execute_result"
    }
   ],
   "source": [
    "data.head()"
   ]
  },
  {
   "cell_type": "code",
   "execution_count": 30,
   "id": "c4938b50",
   "metadata": {},
   "outputs": [],
   "source": [
    "data['Open'] = round(data['Open'],2)\n",
    "data['High'] = round(data['High'],2)\n",
    "data['Low'] = round(data['Low'],2)\n",
    "data['Close'] = round(data['Close'],2)\n",
    "\n",
    "# Calculate net_volume\n",
    "data['Net Volume'] = 0\n",
    "data.loc[0, 'Net Volume'] = data.loc[0, 'Volume']\n",
    "\n",
    "for i in range(1, len(data)):\n",
    "    if data.loc[i, 'Close'] > data.loc[i, 'Open']:\n",
    "        data.loc[i, 'Net Volume'] = data.loc[i-1, 'Volume'] + data.loc[i, 'Volume']\n",
    "    else:\n",
    "        data.loc[i, 'Net Volume'] = data.loc[i-1, 'Volume'] - data.loc[i, 'Volume']\n"
   ]
  },
  {
   "cell_type": "code",
   "execution_count": 37,
   "id": "69db3a35",
   "metadata": {},
   "outputs": [
    {
     "data": {
      "text/html": [
       "<div>\n",
       "<style scoped>\n",
       "    .dataframe tbody tr th:only-of-type {\n",
       "        vertical-align: middle;\n",
       "    }\n",
       "\n",
       "    .dataframe tbody tr th {\n",
       "        vertical-align: top;\n",
       "    }\n",
       "\n",
       "    .dataframe thead th {\n",
       "        text-align: right;\n",
       "    }\n",
       "</style>\n",
       "<table border=\"1\" class=\"dataframe\">\n",
       "  <thead>\n",
       "    <tr style=\"text-align: right;\">\n",
       "      <th></th>\n",
       "      <th>Datetime</th>\n",
       "      <th>Open</th>\n",
       "      <th>High</th>\n",
       "      <th>Low</th>\n",
       "      <th>Close</th>\n",
       "      <th>Adj Close</th>\n",
       "      <th>Volume</th>\n",
       "    </tr>\n",
       "  </thead>\n",
       "  <tbody>\n",
       "    <tr>\n",
       "      <th>77</th>\n",
       "      <td>2024-07-18 15:55:00-04:00</td>\n",
       "      <td>223.845001</td>\n",
       "      <td>224.580002</td>\n",
       "      <td>223.830002</td>\n",
       "      <td>224.190002</td>\n",
       "      <td>224.190002</td>\n",
       "      <td>1776479</td>\n",
       "    </tr>\n",
       "    <tr>\n",
       "      <th>78</th>\n",
       "      <td>2024-07-19 09:30:00-04:00</td>\n",
       "      <td>224.852005</td>\n",
       "      <td>225.929993</td>\n",
       "      <td>224.419998</td>\n",
       "      <td>224.940002</td>\n",
       "      <td>224.940002</td>\n",
       "      <td>6229122</td>\n",
       "    </tr>\n",
       "    <tr>\n",
       "      <th>79</th>\n",
       "      <td>2024-07-19 09:35:00-04:00</td>\n",
       "      <td>224.940002</td>\n",
       "      <td>226.419998</td>\n",
       "      <td>224.930603</td>\n",
       "      <td>226.419998</td>\n",
       "      <td>226.419998</td>\n",
       "      <td>1044908</td>\n",
       "    </tr>\n",
       "    <tr>\n",
       "      <th>80</th>\n",
       "      <td>2024-07-19 09:40:00-04:00</td>\n",
       "      <td>226.419998</td>\n",
       "      <td>226.490005</td>\n",
       "      <td>224.809998</td>\n",
       "      <td>225.039993</td>\n",
       "      <td>225.039993</td>\n",
       "      <td>1474936</td>\n",
       "    </tr>\n",
       "  </tbody>\n",
       "</table>\n",
       "</div>"
      ],
      "text/plain": [
       "                    Datetime        Open        High         Low       Close  \\\n",
       "77 2024-07-18 15:55:00-04:00  223.845001  224.580002  223.830002  224.190002   \n",
       "78 2024-07-19 09:30:00-04:00  224.852005  225.929993  224.419998  224.940002   \n",
       "79 2024-07-19 09:35:00-04:00  224.940002  226.419998  224.930603  226.419998   \n",
       "80 2024-07-19 09:40:00-04:00  226.419998  226.490005  224.809998  225.039993   \n",
       "\n",
       "     Adj Close   Volume  \n",
       "77  224.190002  1776479  \n",
       "78  224.940002  6229122  \n",
       "79  226.419998  1044908  \n",
       "80  225.039993  1474936  "
      ]
     },
     "execution_count": 37,
     "metadata": {},
     "output_type": "execute_result"
    }
   ],
   "source": [
    "data[(data['Datetime'] >= '2024-07-18 15:55:00') & (data['Datetime'] <= '2024-07-19 09:40:00')]"
   ]
  },
  {
   "cell_type": "code",
   "execution_count": 32,
   "id": "33bd76d2",
   "metadata": {},
   "outputs": [
    {
     "data": {
      "application/vnd.plotly.v1+json": {
       "config": {
        "plotlyServerURL": "https://plot.ly"
       },
       "data": [
        {
         "hovertemplate": "Datetime=%{x}<br>Net Volume=%{y}<extra></extra>",
         "legendgroup": "",
         "line": {
          "color": "#636efa",
          "dash": "solid"
         },
         "marker": {
          "symbol": "circle"
         },
         "mode": "lines",
         "name": "",
         "orientation": "v",
         "showlegend": false,
         "type": "scatter",
         "x": [
          "2024-07-19T09:30:00-04:00",
          "2024-07-19T09:35:00-04:00",
          "2024-07-19T09:40:00-04:00",
          "2024-07-19T09:45:00-04:00",
          "2024-07-19T09:50:00-04:00",
          "2024-07-19T09:55:00-04:00",
          "2024-07-19T10:00:00-04:00",
          "2024-07-19T10:05:00-04:00",
          "2024-07-19T10:10:00-04:00",
          "2024-07-19T10:15:00-04:00",
          "2024-07-19T10:20:00-04:00",
          "2024-07-19T10:25:00-04:00",
          "2024-07-19T10:30:00-04:00",
          "2024-07-19T10:35:00-04:00",
          "2024-07-19T10:40:00-04:00",
          "2024-07-19T10:45:00-04:00",
          "2024-07-19T10:50:00-04:00",
          "2024-07-19T10:55:00-04:00",
          "2024-07-19T11:00:00-04:00",
          "2024-07-19T11:05:00-04:00",
          "2024-07-19T11:10:00-04:00",
          "2024-07-19T11:15:00-04:00",
          "2024-07-19T11:20:00-04:00",
          "2024-07-19T11:25:00-04:00",
          "2024-07-19T11:30:00-04:00",
          "2024-07-19T11:35:00-04:00",
          "2024-07-19T11:40:00-04:00",
          "2024-07-19T11:45:00-04:00",
          "2024-07-19T11:50:00-04:00",
          "2024-07-19T11:55:00-04:00",
          "2024-07-19T12:00:00-04:00",
          "2024-07-19T12:05:00-04:00",
          "2024-07-19T12:10:00-04:00",
          "2024-07-19T12:15:00-04:00",
          "2024-07-19T12:20:00-04:00",
          "2024-07-19T12:25:00-04:00",
          "2024-07-19T12:30:00-04:00",
          "2024-07-19T12:35:00-04:00",
          "2024-07-19T12:40:00-04:00",
          "2024-07-19T12:45:00-04:00",
          "2024-07-19T12:50:00-04:00",
          "2024-07-19T12:55:00-04:00",
          "2024-07-19T13:00:00-04:00",
          "2024-07-19T13:05:00-04:00",
          "2024-07-19T13:10:00-04:00",
          "2024-07-19T13:15:00-04:00",
          "2024-07-19T13:20:00-04:00",
          "2024-07-19T13:25:00-04:00",
          "2024-07-19T13:30:00-04:00",
          "2024-07-19T13:35:00-04:00",
          "2024-07-19T13:40:00-04:00",
          "2024-07-19T13:45:00-04:00",
          "2024-07-19T13:50:00-04:00",
          "2024-07-19T13:55:00-04:00",
          "2024-07-19T14:00:00-04:00",
          "2024-07-19T14:05:00-04:00",
          "2024-07-19T14:10:00-04:00",
          "2024-07-19T14:15:00-04:00",
          "2024-07-19T14:20:00-04:00",
          "2024-07-19T14:25:00-04:00",
          "2024-07-19T14:30:00-04:00",
          "2024-07-19T14:35:00-04:00",
          "2024-07-19T14:40:00-04:00",
          "2024-07-19T14:45:00-04:00",
          "2024-07-19T14:50:00-04:00",
          "2024-07-19T14:55:00-04:00",
          "2024-07-19T15:00:00-04:00",
          "2024-07-19T15:05:00-04:00",
          "2024-07-19T15:10:00-04:00",
          "2024-07-19T15:15:00-04:00",
          "2024-07-19T15:20:00-04:00",
          "2024-07-19T15:25:00-04:00",
          "2024-07-19T15:30:00-04:00",
          "2024-07-19T15:35:00-04:00",
          "2024-07-19T15:40:00-04:00",
          "2024-07-19T15:45:00-04:00",
          "2024-07-19T15:50:00-04:00",
          "2024-07-19T15:55:00-04:00"
         ],
         "xaxis": "x",
         "y": [
          4777046,
          2298465,
          813283,
          -860779,
          4815149,
          933519,
          -1003606,
          4177504,
          -638986,
          4132166,
          325083,
          -75120,
          -199707,
          3727038,
          1016208,
          2408135,
          2392279,
          -174852,
          284963,
          -217093,
          40359,
          1841649,
          1547859,
          -315983,
          -635408,
          2891144,
          -318616,
          152637,
          2302522,
          1709011,
          -245337,
          1841659,
          69304,
          -136704,
          39067,
          1842910,
          -67503,
          -223913,
          2155742,
          1915159,
          63259,
          1486703,
          -33207,
          1264441,
          -19517,
          108502,
          1121542,
          1280340,
          1325163,
          -107326,
          -141347,
          1737800,
          113415,
          1392862,
          73515,
          43185,
          1178109,
          175230,
          44107,
          -156373,
          1105278,
          -68493,
          49481,
          1267720,
          1309222,
          964043,
          1029561,
          1146673,
          1089864,
          1171210,
          -203307,
          316156,
          -140915,
          34427,
          -60123,
          -198035,
          2018985,
          -788491
         ],
         "yaxis": "y"
        }
       ],
       "layout": {
        "legend": {
         "tracegroupgap": 0
        },
        "template": {
         "data": {
          "bar": [
           {
            "error_x": {
             "color": "#2a3f5f"
            },
            "error_y": {
             "color": "#2a3f5f"
            },
            "marker": {
             "line": {
              "color": "#E5ECF6",
              "width": 0.5
             },
             "pattern": {
              "fillmode": "overlay",
              "size": 10,
              "solidity": 0.2
             }
            },
            "type": "bar"
           }
          ],
          "barpolar": [
           {
            "marker": {
             "line": {
              "color": "#E5ECF6",
              "width": 0.5
             },
             "pattern": {
              "fillmode": "overlay",
              "size": 10,
              "solidity": 0.2
             }
            },
            "type": "barpolar"
           }
          ],
          "carpet": [
           {
            "aaxis": {
             "endlinecolor": "#2a3f5f",
             "gridcolor": "white",
             "linecolor": "white",
             "minorgridcolor": "white",
             "startlinecolor": "#2a3f5f"
            },
            "baxis": {
             "endlinecolor": "#2a3f5f",
             "gridcolor": "white",
             "linecolor": "white",
             "minorgridcolor": "white",
             "startlinecolor": "#2a3f5f"
            },
            "type": "carpet"
           }
          ],
          "choropleth": [
           {
            "colorbar": {
             "outlinewidth": 0,
             "ticks": ""
            },
            "type": "choropleth"
           }
          ],
          "contour": [
           {
            "colorbar": {
             "outlinewidth": 0,
             "ticks": ""
            },
            "colorscale": [
             [
              0,
              "#0d0887"
             ],
             [
              0.1111111111111111,
              "#46039f"
             ],
             [
              0.2222222222222222,
              "#7201a8"
             ],
             [
              0.3333333333333333,
              "#9c179e"
             ],
             [
              0.4444444444444444,
              "#bd3786"
             ],
             [
              0.5555555555555556,
              "#d8576b"
             ],
             [
              0.6666666666666666,
              "#ed7953"
             ],
             [
              0.7777777777777778,
              "#fb9f3a"
             ],
             [
              0.8888888888888888,
              "#fdca26"
             ],
             [
              1,
              "#f0f921"
             ]
            ],
            "type": "contour"
           }
          ],
          "contourcarpet": [
           {
            "colorbar": {
             "outlinewidth": 0,
             "ticks": ""
            },
            "type": "contourcarpet"
           }
          ],
          "heatmap": [
           {
            "colorbar": {
             "outlinewidth": 0,
             "ticks": ""
            },
            "colorscale": [
             [
              0,
              "#0d0887"
             ],
             [
              0.1111111111111111,
              "#46039f"
             ],
             [
              0.2222222222222222,
              "#7201a8"
             ],
             [
              0.3333333333333333,
              "#9c179e"
             ],
             [
              0.4444444444444444,
              "#bd3786"
             ],
             [
              0.5555555555555556,
              "#d8576b"
             ],
             [
              0.6666666666666666,
              "#ed7953"
             ],
             [
              0.7777777777777778,
              "#fb9f3a"
             ],
             [
              0.8888888888888888,
              "#fdca26"
             ],
             [
              1,
              "#f0f921"
             ]
            ],
            "type": "heatmap"
           }
          ],
          "heatmapgl": [
           {
            "colorbar": {
             "outlinewidth": 0,
             "ticks": ""
            },
            "colorscale": [
             [
              0,
              "#0d0887"
             ],
             [
              0.1111111111111111,
              "#46039f"
             ],
             [
              0.2222222222222222,
              "#7201a8"
             ],
             [
              0.3333333333333333,
              "#9c179e"
             ],
             [
              0.4444444444444444,
              "#bd3786"
             ],
             [
              0.5555555555555556,
              "#d8576b"
             ],
             [
              0.6666666666666666,
              "#ed7953"
             ],
             [
              0.7777777777777778,
              "#fb9f3a"
             ],
             [
              0.8888888888888888,
              "#fdca26"
             ],
             [
              1,
              "#f0f921"
             ]
            ],
            "type": "heatmapgl"
           }
          ],
          "histogram": [
           {
            "marker": {
             "pattern": {
              "fillmode": "overlay",
              "size": 10,
              "solidity": 0.2
             }
            },
            "type": "histogram"
           }
          ],
          "histogram2d": [
           {
            "colorbar": {
             "outlinewidth": 0,
             "ticks": ""
            },
            "colorscale": [
             [
              0,
              "#0d0887"
             ],
             [
              0.1111111111111111,
              "#46039f"
             ],
             [
              0.2222222222222222,
              "#7201a8"
             ],
             [
              0.3333333333333333,
              "#9c179e"
             ],
             [
              0.4444444444444444,
              "#bd3786"
             ],
             [
              0.5555555555555556,
              "#d8576b"
             ],
             [
              0.6666666666666666,
              "#ed7953"
             ],
             [
              0.7777777777777778,
              "#fb9f3a"
             ],
             [
              0.8888888888888888,
              "#fdca26"
             ],
             [
              1,
              "#f0f921"
             ]
            ],
            "type": "histogram2d"
           }
          ],
          "histogram2dcontour": [
           {
            "colorbar": {
             "outlinewidth": 0,
             "ticks": ""
            },
            "colorscale": [
             [
              0,
              "#0d0887"
             ],
             [
              0.1111111111111111,
              "#46039f"
             ],
             [
              0.2222222222222222,
              "#7201a8"
             ],
             [
              0.3333333333333333,
              "#9c179e"
             ],
             [
              0.4444444444444444,
              "#bd3786"
             ],
             [
              0.5555555555555556,
              "#d8576b"
             ],
             [
              0.6666666666666666,
              "#ed7953"
             ],
             [
              0.7777777777777778,
              "#fb9f3a"
             ],
             [
              0.8888888888888888,
              "#fdca26"
             ],
             [
              1,
              "#f0f921"
             ]
            ],
            "type": "histogram2dcontour"
           }
          ],
          "mesh3d": [
           {
            "colorbar": {
             "outlinewidth": 0,
             "ticks": ""
            },
            "type": "mesh3d"
           }
          ],
          "parcoords": [
           {
            "line": {
             "colorbar": {
              "outlinewidth": 0,
              "ticks": ""
             }
            },
            "type": "parcoords"
           }
          ],
          "pie": [
           {
            "automargin": true,
            "type": "pie"
           }
          ],
          "scatter": [
           {
            "marker": {
             "colorbar": {
              "outlinewidth": 0,
              "ticks": ""
             }
            },
            "type": "scatter"
           }
          ],
          "scatter3d": [
           {
            "line": {
             "colorbar": {
              "outlinewidth": 0,
              "ticks": ""
             }
            },
            "marker": {
             "colorbar": {
              "outlinewidth": 0,
              "ticks": ""
             }
            },
            "type": "scatter3d"
           }
          ],
          "scattercarpet": [
           {
            "marker": {
             "colorbar": {
              "outlinewidth": 0,
              "ticks": ""
             }
            },
            "type": "scattercarpet"
           }
          ],
          "scattergeo": [
           {
            "marker": {
             "colorbar": {
              "outlinewidth": 0,
              "ticks": ""
             }
            },
            "type": "scattergeo"
           }
          ],
          "scattergl": [
           {
            "marker": {
             "colorbar": {
              "outlinewidth": 0,
              "ticks": ""
             }
            },
            "type": "scattergl"
           }
          ],
          "scattermapbox": [
           {
            "marker": {
             "colorbar": {
              "outlinewidth": 0,
              "ticks": ""
             }
            },
            "type": "scattermapbox"
           }
          ],
          "scatterpolar": [
           {
            "marker": {
             "colorbar": {
              "outlinewidth": 0,
              "ticks": ""
             }
            },
            "type": "scatterpolar"
           }
          ],
          "scatterpolargl": [
           {
            "marker": {
             "colorbar": {
              "outlinewidth": 0,
              "ticks": ""
             }
            },
            "type": "scatterpolargl"
           }
          ],
          "scatterternary": [
           {
            "marker": {
             "colorbar": {
              "outlinewidth": 0,
              "ticks": ""
             }
            },
            "type": "scatterternary"
           }
          ],
          "surface": [
           {
            "colorbar": {
             "outlinewidth": 0,
             "ticks": ""
            },
            "colorscale": [
             [
              0,
              "#0d0887"
             ],
             [
              0.1111111111111111,
              "#46039f"
             ],
             [
              0.2222222222222222,
              "#7201a8"
             ],
             [
              0.3333333333333333,
              "#9c179e"
             ],
             [
              0.4444444444444444,
              "#bd3786"
             ],
             [
              0.5555555555555556,
              "#d8576b"
             ],
             [
              0.6666666666666666,
              "#ed7953"
             ],
             [
              0.7777777777777778,
              "#fb9f3a"
             ],
             [
              0.8888888888888888,
              "#fdca26"
             ],
             [
              1,
              "#f0f921"
             ]
            ],
            "type": "surface"
           }
          ],
          "table": [
           {
            "cells": {
             "fill": {
              "color": "#EBF0F8"
             },
             "line": {
              "color": "white"
             }
            },
            "header": {
             "fill": {
              "color": "#C8D4E3"
             },
             "line": {
              "color": "white"
             }
            },
            "type": "table"
           }
          ]
         },
         "layout": {
          "annotationdefaults": {
           "arrowcolor": "#2a3f5f",
           "arrowhead": 0,
           "arrowwidth": 1
          },
          "autotypenumbers": "strict",
          "coloraxis": {
           "colorbar": {
            "outlinewidth": 0,
            "ticks": ""
           }
          },
          "colorscale": {
           "diverging": [
            [
             0,
             "#8e0152"
            ],
            [
             0.1,
             "#c51b7d"
            ],
            [
             0.2,
             "#de77ae"
            ],
            [
             0.3,
             "#f1b6da"
            ],
            [
             0.4,
             "#fde0ef"
            ],
            [
             0.5,
             "#f7f7f7"
            ],
            [
             0.6,
             "#e6f5d0"
            ],
            [
             0.7,
             "#b8e186"
            ],
            [
             0.8,
             "#7fbc41"
            ],
            [
             0.9,
             "#4d9221"
            ],
            [
             1,
             "#276419"
            ]
           ],
           "sequential": [
            [
             0,
             "#0d0887"
            ],
            [
             0.1111111111111111,
             "#46039f"
            ],
            [
             0.2222222222222222,
             "#7201a8"
            ],
            [
             0.3333333333333333,
             "#9c179e"
            ],
            [
             0.4444444444444444,
             "#bd3786"
            ],
            [
             0.5555555555555556,
             "#d8576b"
            ],
            [
             0.6666666666666666,
             "#ed7953"
            ],
            [
             0.7777777777777778,
             "#fb9f3a"
            ],
            [
             0.8888888888888888,
             "#fdca26"
            ],
            [
             1,
             "#f0f921"
            ]
           ],
           "sequentialminus": [
            [
             0,
             "#0d0887"
            ],
            [
             0.1111111111111111,
             "#46039f"
            ],
            [
             0.2222222222222222,
             "#7201a8"
            ],
            [
             0.3333333333333333,
             "#9c179e"
            ],
            [
             0.4444444444444444,
             "#bd3786"
            ],
            [
             0.5555555555555556,
             "#d8576b"
            ],
            [
             0.6666666666666666,
             "#ed7953"
            ],
            [
             0.7777777777777778,
             "#fb9f3a"
            ],
            [
             0.8888888888888888,
             "#fdca26"
            ],
            [
             1,
             "#f0f921"
            ]
           ]
          },
          "colorway": [
           "#636efa",
           "#EF553B",
           "#00cc96",
           "#ab63fa",
           "#FFA15A",
           "#19d3f3",
           "#FF6692",
           "#B6E880",
           "#FF97FF",
           "#FECB52"
          ],
          "font": {
           "color": "#2a3f5f"
          },
          "geo": {
           "bgcolor": "white",
           "lakecolor": "white",
           "landcolor": "#E5ECF6",
           "showlakes": true,
           "showland": true,
           "subunitcolor": "white"
          },
          "hoverlabel": {
           "align": "left"
          },
          "hovermode": "closest",
          "mapbox": {
           "style": "light"
          },
          "paper_bgcolor": "white",
          "plot_bgcolor": "#E5ECF6",
          "polar": {
           "angularaxis": {
            "gridcolor": "white",
            "linecolor": "white",
            "ticks": ""
           },
           "bgcolor": "#E5ECF6",
           "radialaxis": {
            "gridcolor": "white",
            "linecolor": "white",
            "ticks": ""
           }
          },
          "scene": {
           "xaxis": {
            "backgroundcolor": "#E5ECF6",
            "gridcolor": "white",
            "gridwidth": 2,
            "linecolor": "white",
            "showbackground": true,
            "ticks": "",
            "zerolinecolor": "white"
           },
           "yaxis": {
            "backgroundcolor": "#E5ECF6",
            "gridcolor": "white",
            "gridwidth": 2,
            "linecolor": "white",
            "showbackground": true,
            "ticks": "",
            "zerolinecolor": "white"
           },
           "zaxis": {
            "backgroundcolor": "#E5ECF6",
            "gridcolor": "white",
            "gridwidth": 2,
            "linecolor": "white",
            "showbackground": true,
            "ticks": "",
            "zerolinecolor": "white"
           }
          },
          "shapedefaults": {
           "line": {
            "color": "#2a3f5f"
           }
          },
          "ternary": {
           "aaxis": {
            "gridcolor": "white",
            "linecolor": "white",
            "ticks": ""
           },
           "baxis": {
            "gridcolor": "white",
            "linecolor": "white",
            "ticks": ""
           },
           "bgcolor": "#E5ECF6",
           "caxis": {
            "gridcolor": "white",
            "linecolor": "white",
            "ticks": ""
           }
          },
          "title": {
           "x": 0.05
          },
          "xaxis": {
           "automargin": true,
           "gridcolor": "white",
           "linecolor": "white",
           "ticks": "",
           "title": {
            "standoff": 15
           },
           "zerolinecolor": "white",
           "zerolinewidth": 2
          },
          "yaxis": {
           "automargin": true,
           "gridcolor": "white",
           "linecolor": "white",
           "ticks": "",
           "title": {
            "standoff": 15
           },
           "zerolinecolor": "white",
           "zerolinewidth": 2
          }
         }
        },
        "title": {
         "text": "Net Volume Over Time"
        },
        "xaxis": {
         "anchor": "y",
         "domain": [
          0,
          1
         ],
         "title": {
          "text": "Datetime"
         }
        },
        "yaxis": {
         "anchor": "x",
         "domain": [
          0,
          1
         ],
         "title": {
          "text": "Net Volume"
         }
        }
       }
      },
      "text/html": [
       "<div>                            <div id=\"7e991948-f578-4016-ac15-c7aba6290f69\" class=\"plotly-graph-div\" style=\"height:525px; width:100%;\"></div>            <script type=\"text/javascript\">                require([\"plotly\"], function(Plotly) {                    window.PLOTLYENV=window.PLOTLYENV || {};                                    if (document.getElementById(\"7e991948-f578-4016-ac15-c7aba6290f69\")) {                    Plotly.newPlot(                        \"7e991948-f578-4016-ac15-c7aba6290f69\",                        [{\"hovertemplate\":\"Datetime=%{x}<br>Net Volume=%{y}<extra></extra>\",\"legendgroup\":\"\",\"line\":{\"color\":\"#636efa\",\"dash\":\"solid\"},\"marker\":{\"symbol\":\"circle\"},\"mode\":\"lines\",\"name\":\"\",\"orientation\":\"v\",\"showlegend\":false,\"x\":[\"2024-07-19T09:30:00-04:00\",\"2024-07-19T09:35:00-04:00\",\"2024-07-19T09:40:00-04:00\",\"2024-07-19T09:45:00-04:00\",\"2024-07-19T09:50:00-04:00\",\"2024-07-19T09:55:00-04:00\",\"2024-07-19T10:00:00-04:00\",\"2024-07-19T10:05:00-04:00\",\"2024-07-19T10:10:00-04:00\",\"2024-07-19T10:15:00-04:00\",\"2024-07-19T10:20:00-04:00\",\"2024-07-19T10:25:00-04:00\",\"2024-07-19T10:30:00-04:00\",\"2024-07-19T10:35:00-04:00\",\"2024-07-19T10:40:00-04:00\",\"2024-07-19T10:45:00-04:00\",\"2024-07-19T10:50:00-04:00\",\"2024-07-19T10:55:00-04:00\",\"2024-07-19T11:00:00-04:00\",\"2024-07-19T11:05:00-04:00\",\"2024-07-19T11:10:00-04:00\",\"2024-07-19T11:15:00-04:00\",\"2024-07-19T11:20:00-04:00\",\"2024-07-19T11:25:00-04:00\",\"2024-07-19T11:30:00-04:00\",\"2024-07-19T11:35:00-04:00\",\"2024-07-19T11:40:00-04:00\",\"2024-07-19T11:45:00-04:00\",\"2024-07-19T11:50:00-04:00\",\"2024-07-19T11:55:00-04:00\",\"2024-07-19T12:00:00-04:00\",\"2024-07-19T12:05:00-04:00\",\"2024-07-19T12:10:00-04:00\",\"2024-07-19T12:15:00-04:00\",\"2024-07-19T12:20:00-04:00\",\"2024-07-19T12:25:00-04:00\",\"2024-07-19T12:30:00-04:00\",\"2024-07-19T12:35:00-04:00\",\"2024-07-19T12:40:00-04:00\",\"2024-07-19T12:45:00-04:00\",\"2024-07-19T12:50:00-04:00\",\"2024-07-19T12:55:00-04:00\",\"2024-07-19T13:00:00-04:00\",\"2024-07-19T13:05:00-04:00\",\"2024-07-19T13:10:00-04:00\",\"2024-07-19T13:15:00-04:00\",\"2024-07-19T13:20:00-04:00\",\"2024-07-19T13:25:00-04:00\",\"2024-07-19T13:30:00-04:00\",\"2024-07-19T13:35:00-04:00\",\"2024-07-19T13:40:00-04:00\",\"2024-07-19T13:45:00-04:00\",\"2024-07-19T13:50:00-04:00\",\"2024-07-19T13:55:00-04:00\",\"2024-07-19T14:00:00-04:00\",\"2024-07-19T14:05:00-04:00\",\"2024-07-19T14:10:00-04:00\",\"2024-07-19T14:15:00-04:00\",\"2024-07-19T14:20:00-04:00\",\"2024-07-19T14:25:00-04:00\",\"2024-07-19T14:30:00-04:00\",\"2024-07-19T14:35:00-04:00\",\"2024-07-19T14:40:00-04:00\",\"2024-07-19T14:45:00-04:00\",\"2024-07-19T14:50:00-04:00\",\"2024-07-19T14:55:00-04:00\",\"2024-07-19T15:00:00-04:00\",\"2024-07-19T15:05:00-04:00\",\"2024-07-19T15:10:00-04:00\",\"2024-07-19T15:15:00-04:00\",\"2024-07-19T15:20:00-04:00\",\"2024-07-19T15:25:00-04:00\",\"2024-07-19T15:30:00-04:00\",\"2024-07-19T15:35:00-04:00\",\"2024-07-19T15:40:00-04:00\",\"2024-07-19T15:45:00-04:00\",\"2024-07-19T15:50:00-04:00\",\"2024-07-19T15:55:00-04:00\"],\"xaxis\":\"x\",\"y\":[4777046,2298465,813283,-860779,4815149,933519,-1003606,4177504,-638986,4132166,325083,-75120,-199707,3727038,1016208,2408135,2392279,-174852,284963,-217093,40359,1841649,1547859,-315983,-635408,2891144,-318616,152637,2302522,1709011,-245337,1841659,69304,-136704,39067,1842910,-67503,-223913,2155742,1915159,63259,1486703,-33207,1264441,-19517,108502,1121542,1280340,1325163,-107326,-141347,1737800,113415,1392862,73515,43185,1178109,175230,44107,-156373,1105278,-68493,49481,1267720,1309222,964043,1029561,1146673,1089864,1171210,-203307,316156,-140915,34427,-60123,-198035,2018985,-788491],\"yaxis\":\"y\",\"type\":\"scatter\"}],                        {\"template\":{\"data\":{\"bar\":[{\"error_x\":{\"color\":\"#2a3f5f\"},\"error_y\":{\"color\":\"#2a3f5f\"},\"marker\":{\"line\":{\"color\":\"#E5ECF6\",\"width\":0.5},\"pattern\":{\"fillmode\":\"overlay\",\"size\":10,\"solidity\":0.2}},\"type\":\"bar\"}],\"barpolar\":[{\"marker\":{\"line\":{\"color\":\"#E5ECF6\",\"width\":0.5},\"pattern\":{\"fillmode\":\"overlay\",\"size\":10,\"solidity\":0.2}},\"type\":\"barpolar\"}],\"carpet\":[{\"aaxis\":{\"endlinecolor\":\"#2a3f5f\",\"gridcolor\":\"white\",\"linecolor\":\"white\",\"minorgridcolor\":\"white\",\"startlinecolor\":\"#2a3f5f\"},\"baxis\":{\"endlinecolor\":\"#2a3f5f\",\"gridcolor\":\"white\",\"linecolor\":\"white\",\"minorgridcolor\":\"white\",\"startlinecolor\":\"#2a3f5f\"},\"type\":\"carpet\"}],\"choropleth\":[{\"colorbar\":{\"outlinewidth\":0,\"ticks\":\"\"},\"type\":\"choropleth\"}],\"contour\":[{\"colorbar\":{\"outlinewidth\":0,\"ticks\":\"\"},\"colorscale\":[[0.0,\"#0d0887\"],[0.1111111111111111,\"#46039f\"],[0.2222222222222222,\"#7201a8\"],[0.3333333333333333,\"#9c179e\"],[0.4444444444444444,\"#bd3786\"],[0.5555555555555556,\"#d8576b\"],[0.6666666666666666,\"#ed7953\"],[0.7777777777777778,\"#fb9f3a\"],[0.8888888888888888,\"#fdca26\"],[1.0,\"#f0f921\"]],\"type\":\"contour\"}],\"contourcarpet\":[{\"colorbar\":{\"outlinewidth\":0,\"ticks\":\"\"},\"type\":\"contourcarpet\"}],\"heatmap\":[{\"colorbar\":{\"outlinewidth\":0,\"ticks\":\"\"},\"colorscale\":[[0.0,\"#0d0887\"],[0.1111111111111111,\"#46039f\"],[0.2222222222222222,\"#7201a8\"],[0.3333333333333333,\"#9c179e\"],[0.4444444444444444,\"#bd3786\"],[0.5555555555555556,\"#d8576b\"],[0.6666666666666666,\"#ed7953\"],[0.7777777777777778,\"#fb9f3a\"],[0.8888888888888888,\"#fdca26\"],[1.0,\"#f0f921\"]],\"type\":\"heatmap\"}],\"heatmapgl\":[{\"colorbar\":{\"outlinewidth\":0,\"ticks\":\"\"},\"colorscale\":[[0.0,\"#0d0887\"],[0.1111111111111111,\"#46039f\"],[0.2222222222222222,\"#7201a8\"],[0.3333333333333333,\"#9c179e\"],[0.4444444444444444,\"#bd3786\"],[0.5555555555555556,\"#d8576b\"],[0.6666666666666666,\"#ed7953\"],[0.7777777777777778,\"#fb9f3a\"],[0.8888888888888888,\"#fdca26\"],[1.0,\"#f0f921\"]],\"type\":\"heatmapgl\"}],\"histogram\":[{\"marker\":{\"pattern\":{\"fillmode\":\"overlay\",\"size\":10,\"solidity\":0.2}},\"type\":\"histogram\"}],\"histogram2d\":[{\"colorbar\":{\"outlinewidth\":0,\"ticks\":\"\"},\"colorscale\":[[0.0,\"#0d0887\"],[0.1111111111111111,\"#46039f\"],[0.2222222222222222,\"#7201a8\"],[0.3333333333333333,\"#9c179e\"],[0.4444444444444444,\"#bd3786\"],[0.5555555555555556,\"#d8576b\"],[0.6666666666666666,\"#ed7953\"],[0.7777777777777778,\"#fb9f3a\"],[0.8888888888888888,\"#fdca26\"],[1.0,\"#f0f921\"]],\"type\":\"histogram2d\"}],\"histogram2dcontour\":[{\"colorbar\":{\"outlinewidth\":0,\"ticks\":\"\"},\"colorscale\":[[0.0,\"#0d0887\"],[0.1111111111111111,\"#46039f\"],[0.2222222222222222,\"#7201a8\"],[0.3333333333333333,\"#9c179e\"],[0.4444444444444444,\"#bd3786\"],[0.5555555555555556,\"#d8576b\"],[0.6666666666666666,\"#ed7953\"],[0.7777777777777778,\"#fb9f3a\"],[0.8888888888888888,\"#fdca26\"],[1.0,\"#f0f921\"]],\"type\":\"histogram2dcontour\"}],\"mesh3d\":[{\"colorbar\":{\"outlinewidth\":0,\"ticks\":\"\"},\"type\":\"mesh3d\"}],\"parcoords\":[{\"line\":{\"colorbar\":{\"outlinewidth\":0,\"ticks\":\"\"}},\"type\":\"parcoords\"}],\"pie\":[{\"automargin\":true,\"type\":\"pie\"}],\"scatter\":[{\"marker\":{\"colorbar\":{\"outlinewidth\":0,\"ticks\":\"\"}},\"type\":\"scatter\"}],\"scatter3d\":[{\"line\":{\"colorbar\":{\"outlinewidth\":0,\"ticks\":\"\"}},\"marker\":{\"colorbar\":{\"outlinewidth\":0,\"ticks\":\"\"}},\"type\":\"scatter3d\"}],\"scattercarpet\":[{\"marker\":{\"colorbar\":{\"outlinewidth\":0,\"ticks\":\"\"}},\"type\":\"scattercarpet\"}],\"scattergeo\":[{\"marker\":{\"colorbar\":{\"outlinewidth\":0,\"ticks\":\"\"}},\"type\":\"scattergeo\"}],\"scattergl\":[{\"marker\":{\"colorbar\":{\"outlinewidth\":0,\"ticks\":\"\"}},\"type\":\"scattergl\"}],\"scattermapbox\":[{\"marker\":{\"colorbar\":{\"outlinewidth\":0,\"ticks\":\"\"}},\"type\":\"scattermapbox\"}],\"scatterpolar\":[{\"marker\":{\"colorbar\":{\"outlinewidth\":0,\"ticks\":\"\"}},\"type\":\"scatterpolar\"}],\"scatterpolargl\":[{\"marker\":{\"colorbar\":{\"outlinewidth\":0,\"ticks\":\"\"}},\"type\":\"scatterpolargl\"}],\"scatterternary\":[{\"marker\":{\"colorbar\":{\"outlinewidth\":0,\"ticks\":\"\"}},\"type\":\"scatterternary\"}],\"surface\":[{\"colorbar\":{\"outlinewidth\":0,\"ticks\":\"\"},\"colorscale\":[[0.0,\"#0d0887\"],[0.1111111111111111,\"#46039f\"],[0.2222222222222222,\"#7201a8\"],[0.3333333333333333,\"#9c179e\"],[0.4444444444444444,\"#bd3786\"],[0.5555555555555556,\"#d8576b\"],[0.6666666666666666,\"#ed7953\"],[0.7777777777777778,\"#fb9f3a\"],[0.8888888888888888,\"#fdca26\"],[1.0,\"#f0f921\"]],\"type\":\"surface\"}],\"table\":[{\"cells\":{\"fill\":{\"color\":\"#EBF0F8\"},\"line\":{\"color\":\"white\"}},\"header\":{\"fill\":{\"color\":\"#C8D4E3\"},\"line\":{\"color\":\"white\"}},\"type\":\"table\"}]},\"layout\":{\"annotationdefaults\":{\"arrowcolor\":\"#2a3f5f\",\"arrowhead\":0,\"arrowwidth\":1},\"autotypenumbers\":\"strict\",\"coloraxis\":{\"colorbar\":{\"outlinewidth\":0,\"ticks\":\"\"}},\"colorscale\":{\"diverging\":[[0,\"#8e0152\"],[0.1,\"#c51b7d\"],[0.2,\"#de77ae\"],[0.3,\"#f1b6da\"],[0.4,\"#fde0ef\"],[0.5,\"#f7f7f7\"],[0.6,\"#e6f5d0\"],[0.7,\"#b8e186\"],[0.8,\"#7fbc41\"],[0.9,\"#4d9221\"],[1,\"#276419\"]],\"sequential\":[[0.0,\"#0d0887\"],[0.1111111111111111,\"#46039f\"],[0.2222222222222222,\"#7201a8\"],[0.3333333333333333,\"#9c179e\"],[0.4444444444444444,\"#bd3786\"],[0.5555555555555556,\"#d8576b\"],[0.6666666666666666,\"#ed7953\"],[0.7777777777777778,\"#fb9f3a\"],[0.8888888888888888,\"#fdca26\"],[1.0,\"#f0f921\"]],\"sequentialminus\":[[0.0,\"#0d0887\"],[0.1111111111111111,\"#46039f\"],[0.2222222222222222,\"#7201a8\"],[0.3333333333333333,\"#9c179e\"],[0.4444444444444444,\"#bd3786\"],[0.5555555555555556,\"#d8576b\"],[0.6666666666666666,\"#ed7953\"],[0.7777777777777778,\"#fb9f3a\"],[0.8888888888888888,\"#fdca26\"],[1.0,\"#f0f921\"]]},\"colorway\":[\"#636efa\",\"#EF553B\",\"#00cc96\",\"#ab63fa\",\"#FFA15A\",\"#19d3f3\",\"#FF6692\",\"#B6E880\",\"#FF97FF\",\"#FECB52\"],\"font\":{\"color\":\"#2a3f5f\"},\"geo\":{\"bgcolor\":\"white\",\"lakecolor\":\"white\",\"landcolor\":\"#E5ECF6\",\"showlakes\":true,\"showland\":true,\"subunitcolor\":\"white\"},\"hoverlabel\":{\"align\":\"left\"},\"hovermode\":\"closest\",\"mapbox\":{\"style\":\"light\"},\"paper_bgcolor\":\"white\",\"plot_bgcolor\":\"#E5ECF6\",\"polar\":{\"angularaxis\":{\"gridcolor\":\"white\",\"linecolor\":\"white\",\"ticks\":\"\"},\"bgcolor\":\"#E5ECF6\",\"radialaxis\":{\"gridcolor\":\"white\",\"linecolor\":\"white\",\"ticks\":\"\"}},\"scene\":{\"xaxis\":{\"backgroundcolor\":\"#E5ECF6\",\"gridcolor\":\"white\",\"gridwidth\":2,\"linecolor\":\"white\",\"showbackground\":true,\"ticks\":\"\",\"zerolinecolor\":\"white\"},\"yaxis\":{\"backgroundcolor\":\"#E5ECF6\",\"gridcolor\":\"white\",\"gridwidth\":2,\"linecolor\":\"white\",\"showbackground\":true,\"ticks\":\"\",\"zerolinecolor\":\"white\"},\"zaxis\":{\"backgroundcolor\":\"#E5ECF6\",\"gridcolor\":\"white\",\"gridwidth\":2,\"linecolor\":\"white\",\"showbackground\":true,\"ticks\":\"\",\"zerolinecolor\":\"white\"}},\"shapedefaults\":{\"line\":{\"color\":\"#2a3f5f\"}},\"ternary\":{\"aaxis\":{\"gridcolor\":\"white\",\"linecolor\":\"white\",\"ticks\":\"\"},\"baxis\":{\"gridcolor\":\"white\",\"linecolor\":\"white\",\"ticks\":\"\"},\"bgcolor\":\"#E5ECF6\",\"caxis\":{\"gridcolor\":\"white\",\"linecolor\":\"white\",\"ticks\":\"\"}},\"title\":{\"x\":0.05},\"xaxis\":{\"automargin\":true,\"gridcolor\":\"white\",\"linecolor\":\"white\",\"ticks\":\"\",\"title\":{\"standoff\":15},\"zerolinecolor\":\"white\",\"zerolinewidth\":2},\"yaxis\":{\"automargin\":true,\"gridcolor\":\"white\",\"linecolor\":\"white\",\"ticks\":\"\",\"title\":{\"standoff\":15},\"zerolinecolor\":\"white\",\"zerolinewidth\":2}}},\"xaxis\":{\"anchor\":\"y\",\"domain\":[0.0,1.0],\"title\":{\"text\":\"Datetime\"}},\"yaxis\":{\"anchor\":\"x\",\"domain\":[0.0,1.0],\"title\":{\"text\":\"Net Volume\"}},\"legend\":{\"tracegroupgap\":0},\"title\":{\"text\":\"Net Volume Over Time\"}},                        {\"responsive\": true}                    ).then(function(){\n",
       "                            \n",
       "var gd = document.getElementById('7e991948-f578-4016-ac15-c7aba6290f69');\n",
       "var x = new MutationObserver(function (mutations, observer) {{\n",
       "        var display = window.getComputedStyle(gd).display;\n",
       "        if (!display || display === 'none') {{\n",
       "            console.log([gd, 'removed!']);\n",
       "            Plotly.purge(gd);\n",
       "            observer.disconnect();\n",
       "        }}\n",
       "}});\n",
       "\n",
       "// Listen for the removal of the full notebook cells\n",
       "var notebookContainer = gd.closest('#notebook-container');\n",
       "if (notebookContainer) {{\n",
       "    x.observe(notebookContainer, {childList: true});\n",
       "}}\n",
       "\n",
       "// Listen for the clearing of the current output cell\n",
       "var outputEl = gd.closest('.output');\n",
       "if (outputEl) {{\n",
       "    x.observe(outputEl, {childList: true});\n",
       "}}\n",
       "\n",
       "                        })                };                });            </script>        </div>"
      ]
     },
     "metadata": {},
     "output_type": "display_data"
    }
   ],
   "source": [
    "import plotly.express as px\n",
    "\n",
    "# Plot the line chart using Plotly\n",
    "fig = px.line(data, x='Datetime', y='Net Volume', title='Net Volume Over Time', labels={'Datetime': 'Datetime', 'Net Volume': 'Net Volume'})\n",
    "fig.show()"
   ]
  },
  {
   "cell_type": "code",
   "execution_count": 9,
   "id": "8fd2a27d",
   "metadata": {},
   "outputs": [
    {
     "data": {
      "text/plain": [
       "16366"
      ]
     },
     "execution_count": 9,
     "metadata": {},
     "output_type": "execute_result"
    }
   ],
   "source": [
    "96377 - 80011"
   ]
  },
  {
   "cell_type": "code",
   "execution_count": 18,
   "id": "b168540d",
   "metadata": {},
   "outputs": [
    {
     "name": "stdout",
     "output_type": "stream",
     "text": [
      "[*********************100%%**********************]  1 of 1 completed\n",
      "Buy volume only prices:\n",
      "[362.14 - 362.41] with detailed volumes: {362.1445821126302: 119282, 362.414789835612: 67795}\n",
      "\n",
      "Sell volume only prices:\n"
     ]
    }
   ],
   "source": [
    "import yfinance as yf\n",
    "import numpy as np\n",
    "import pandas as pd\n",
    "\n",
    "def fetch_stock_data(ticker, start, interval='5m'):\n",
    "    \"\"\"\n",
    "    Fetch stock data from Yahoo Finance.\n",
    "    :param ticker: Stock ticker symbol\n",
    "    :param start: Start date for data (YYYY-MM-DD)\n",
    "    :param interval: Data interval (e.g., '1d', '5m')\n",
    "    :return: DataFrame with stock data\n",
    "    \"\"\"\n",
    "    stock_data = yf.download(ticker, start=start, interval=interval)\n",
    "    return stock_data\n",
    "\n",
    "def calculate_volume_profile(data, row_size=24):\n",
    "    \"\"\"\n",
    "    Calculate the volume profile.\n",
    "    :param data: DataFrame with stock data\n",
    "    :param row_size: Number of rows for the price levels\n",
    "    :return: volume profile DataFrame with buy and sell volumes\n",
    "    \"\"\"\n",
    "    price_min = data['Low'].min()\n",
    "    price_max = data['High'].max()\n",
    "    bin_edges = np.linspace(price_min, price_max, row_size + 1)\n",
    "    \n",
    "    volume_profile = pd.DataFrame(index=bin_edges[:-1], columns=['Buy Volume', 'Sell Volume'])\n",
    "    volume_profile['Buy Volume'] = 0\n",
    "    volume_profile['Sell Volume'] = 0\n",
    "\n",
    "    for index, row in data.iterrows():\n",
    "        # Determine which bins the high and low price fall into\n",
    "        bin_indices = np.digitize([row['Low'], row['High']], bin_edges) - 1\n",
    "        \n",
    "        # Ensure bin indices are within the valid range\n",
    "        bin_indices = [max(0, min(row_size-1, b)) for b in bin_indices]\n",
    "        \n",
    "        # Separate buy and sell volumes\n",
    "        for i in range(bin_indices[0], bin_indices[1] + 1):\n",
    "            if row['Close'] > row['Open']:\n",
    "                volume_profile.iloc[i, volume_profile.columns.get_loc('Buy Volume')] += row['Volume']\n",
    "            else:\n",
    "                volume_profile.iloc[i, volume_profile.columns.get_loc('Sell Volume')] += row['Volume']\n",
    "        \n",
    "    return volume_profile\n",
    "\n",
    "def identify_volume_ranges(volume_profile):\n",
    "    \"\"\"\n",
    "    Identify and print ranges with only buy or sell volumes.\n",
    "    :param volume_profile: DataFrame with volume profile\n",
    "    \"\"\"\n",
    "    buy_ranges = []\n",
    "    sell_ranges = []\n",
    "    current_buy_range = []\n",
    "    current_sell_range = []\n",
    "\n",
    "    for price, row in volume_profile.iterrows():\n",
    "        if row['Buy Volume'] > 0 and row['Sell Volume'] == 0:\n",
    "            current_buy_range.append(price)\n",
    "        else:\n",
    "            if current_buy_range:\n",
    "                buy_ranges.append((current_buy_range[0], current_buy_range[-1], volume_profile.loc[current_buy_range[0]:current_buy_range[-1], 'Buy Volume'].to_dict()))\n",
    "                current_buy_range = []\n",
    "\n",
    "        if row['Sell Volume'] > 0 and row['Buy Volume'] == 0:\n",
    "            current_sell_range.append(price)\n",
    "        else:\n",
    "            if current_sell_range:\n",
    "                sell_ranges.append((current_sell_range[0], current_sell_range[-1], volume_profile.loc[current_sell_range[0]:current_sell_range[-1], 'Sell Volume'].to_dict()))\n",
    "                current_sell_range = []\n",
    "\n",
    "    if current_buy_range:\n",
    "        buy_ranges.append((current_buy_range[0], current_buy_range[-1], volume_profile.loc[current_buy_range[0]:current_buy_range[-1], 'Buy Volume'].to_dict()))\n",
    "    if current_sell_range:\n",
    "        sell_ranges.append((current_sell_range[0], current_sell_range[-1], volume_profile.loc[current_sell_range[0]:current_sell_range[-1], 'Sell Volume'].to_dict()))\n",
    "\n",
    "    print(\"Buy volume only prices:\")\n",
    "    for start, end, volumes in buy_ranges:\n",
    "        print(f\"[{start:.2f} - {end:.2f}] with detailed volumes: {volumes}\")\n",
    "\n",
    "    print(\"\\nSell volume only prices:\")\n",
    "    for start, end, volumes in sell_ranges:\n",
    "        print(f\"[{start:.2f} - {end:.2f}] with detailed volumes: {volumes}\")\n",
    "\n",
    "# Example usage\n",
    "ticker = 'CAT'\n",
    "start_date = '2024-07-17'\n",
    "\n",
    "data = fetch_stock_data(ticker, start=start_date, interval='5m')\n",
    "volume_profile = calculate_volume_profile(data, row_size=24)\n",
    "identify_volume_ranges(volume_profile)\n"
   ]
  },
  {
   "cell_type": "code",
   "execution_count": 20,
   "id": "9c713130",
   "metadata": {},
   "outputs": [
    {
     "name": "stdout",
     "output_type": "stream",
     "text": [
      "[*********************100%%**********************]  1 of 1 completed\n",
      "Buy volume only prices:\n",
      "\n",
      "Sell volume only prices:\n",
      "[362.41 - 362.41] with detailed volumes: {362.414789835612: 20512}\n"
     ]
    }
   ],
   "source": [
    "import yfinance as yf\n",
    "import numpy as np\n",
    "import pandas as pd\n",
    "\n",
    "def fetch_stock_data(ticker, start, interval='1m'):\n",
    "    \"\"\"\n",
    "    Fetch stock data from Yahoo Finance.\n",
    "    :param ticker: Stock ticker symbol\n",
    "    :param start: Start date for data (YYYY-MM-DD)\n",
    "    :param interval: Data interval (e.g., '1m', '5m')\n",
    "    :return: DataFrame with stock data\n",
    "    \"\"\"\n",
    "    stock_data = yf.download(ticker, start=start, interval=interval)\n",
    "    return stock_data\n",
    "\n",
    "def calculate_volume_profile(data, row_size=24):\n",
    "    \"\"\"\n",
    "    Calculate the volume profile.\n",
    "    :param data: DataFrame with stock data\n",
    "    :param row_size: Number of rows for the price levels\n",
    "    :return: volume profile DataFrame with buy and sell volumes\n",
    "    \"\"\"\n",
    "    price_min = data['Low'].min()\n",
    "    price_max = data['High'].max()\n",
    "    bin_edges = np.linspace(price_min, price_max, row_size + 1)\n",
    "    \n",
    "    volume_profile = pd.DataFrame(index=bin_edges[:-1], columns=['Buy Volume', 'Sell Volume'])\n",
    "    volume_profile['Buy Volume'] = 0\n",
    "    volume_profile['Sell Volume'] = 0\n",
    "\n",
    "    for index, row in data.iterrows():\n",
    "        # Determine which bins the high and low price fall into\n",
    "        bin_indices = np.digitize([row['Low'], row['High']], bin_edges) - 1\n",
    "        \n",
    "        # Ensure bin indices are within the valid range\n",
    "        bin_indices = [max(0, min(row_size-1, b)) for b in bin_indices]\n",
    "        \n",
    "        # Separate buy and sell volumes\n",
    "        for i in range(bin_indices[0], bin_indices[1] + 1):\n",
    "            if row['Close'] > row['Open']:\n",
    "                volume_profile.iloc[i, volume_profile.columns.get_loc('Buy Volume')] += row['Volume']\n",
    "            else:\n",
    "                volume_profile.iloc[i, volume_profile.columns.get_loc('Sell Volume')] += row['Volume']\n",
    "        \n",
    "    return volume_profile\n",
    "\n",
    "def identify_volume_ranges(volume_profile):\n",
    "    \"\"\"\n",
    "    Identify and print ranges with only buy or sell volumes.\n",
    "    :param volume_profile: DataFrame with volume profile\n",
    "    \"\"\"\n",
    "    buy_ranges = []\n",
    "    sell_ranges = []\n",
    "    current_buy_range = []\n",
    "    current_sell_range = []\n",
    "\n",
    "    for price, row in volume_profile.iterrows():\n",
    "        if row['Buy Volume'] > 0 and row['Sell Volume'] == 0:\n",
    "            current_buy_range.append(price)\n",
    "        else:\n",
    "            if current_buy_range:\n",
    "                buy_ranges.append((current_buy_range[0], current_buy_range[-1], volume_profile.loc[current_buy_range[0]:current_buy_range[-1], 'Buy Volume'].to_dict()))\n",
    "                current_buy_range = []\n",
    "\n",
    "        if row['Sell Volume'] > 0 and row['Buy Volume'] == 0:\n",
    "            current_sell_range.append(price)\n",
    "        else:\n",
    "            if current_sell_range:\n",
    "                sell_ranges.append((current_sell_range[0], current_sell_range[-1], volume_profile.loc[current_sell_range[0]:current_sell_range[-1], 'Sell Volume'].to_dict()))\n",
    "                current_sell_range = []\n",
    "\n",
    "    if current_buy_range:\n",
    "        buy_ranges.append((current_buy_range[0], current_buy_range[-1], volume_profile.loc[current_buy_range[0]:current_buy_range[-1], 'Buy Volume'].to_dict()))\n",
    "    if current_sell_range:\n",
    "        sell_ranges.append((current_sell_range[0], current_sell_range[-1], volume_profile.loc[current_sell_range[0]:current_sell_range[-1], 'Sell Volume'].to_dict()))\n",
    "\n",
    "    print(\"Buy volume only prices:\")\n",
    "    for start, end, volumes in buy_ranges:\n",
    "        print(f\"[{start:.2f} - {end:.2f}] with detailed volumes: {volumes}\")\n",
    "\n",
    "    print(\"\\nSell volume only prices:\")\n",
    "    for start, end, volumes in sell_ranges:\n",
    "        print(f\"[{start:.2f} - {end:.2f}] with detailed volumes: {volumes}\")\n",
    "\n",
    "# Example usage\n",
    "ticker = 'CAT'\n",
    "start_date = '2024-07-17'\n",
    "\n",
    "data = fetch_stock_data(ticker, start=start_date, interval='1m')\n",
    "volume_profile = calculate_volume_profile(data, row_size=24)\n",
    "identify_volume_ranges(volume_profile)\n"
   ]
  },
  {
   "cell_type": "code",
   "execution_count": 13,
   "id": "5aaf0165",
   "metadata": {},
   "outputs": [
    {
     "name": "stdout",
     "output_type": "stream",
     "text": [
      "[*********************100%%**********************]  1 of 1 completed\n"
     ]
    },
    {
     "name": "stderr",
     "output_type": "stream",
     "text": [
      "/var/folders/gp/x0f5sgq13db073j79l3_2tb40000gn/T/ipykernel_7185/254227506.py:50: SettingWithCopyWarning: \n",
      "A value is trying to be set on a copy of a slice from a DataFrame\n",
      "\n",
      "See the caveats in the documentation: https://pandas.pydata.org/pandas-docs/stable/user_guide/indexing.html#returning-a-view-versus-a-copy\n",
      "  volume_profile.iloc[i]['Total Volume'] += volume\n",
      "/var/folders/gp/x0f5sgq13db073j79l3_2tb40000gn/T/ipykernel_7185/254227506.py:51: SettingWithCopyWarning: \n",
      "A value is trying to be set on a copy of a slice from a DataFrame\n",
      "\n",
      "See the caveats in the documentation: https://pandas.pydata.org/pandas-docs/stable/user_guide/indexing.html#returning-a-view-versus-a-copy\n",
      "  volume_profile.iloc[i]['Buy Volume'] += buy_volume\n",
      "/var/folders/gp/x0f5sgq13db073j79l3_2tb40000gn/T/ipykernel_7185/254227506.py:52: SettingWithCopyWarning: \n",
      "A value is trying to be set on a copy of a slice from a DataFrame\n",
      "\n",
      "See the caveats in the documentation: https://pandas.pydata.org/pandas-docs/stable/user_guide/indexing.html#returning-a-view-versus-a-copy\n",
      "  volume_profile.iloc[i]['Sell Volume'] += sell_volume\n"
     ]
    },
    {
     "data": {
      "image/png": "[encoded data removed]",
      "text/plain": [
       "<Figure size 720x432 with 1 Axes>"
      ]
     },
     "metadata": {
      "needs_background": "light"
     },
     "output_type": "display_data"
    }
   ],
   "source": [
    "import yfinance as yf\n",
    "import numpy as np\n",
    "import pandas as pd\n",
    "import matplotlib.pyplot as plt\n",
    "\n",
    "def fetch_stock_data(ticker, start, intervals=['1m', '5m', '15m', '30m', '60m', '240m', '1d']):\n",
    "    \"\"\"\n",
    "    Fetch stock data from Yahoo Finance for the given intervals and select the appropriate interval.\n",
    "    :param ticker: Stock ticker symbol\n",
    "    :param start: Start date for data (YYYY-MM-DD)\n",
    "    :param intervals: List of intervals to try\n",
    "    :return: DataFrame with stock data for the selected interval\n",
    "    \"\"\"\n",
    "    for interval in intervals:\n",
    "        data = yf.download(ticker, start=start, interval=interval)\n",
    "        if len(data) < 5000:\n",
    "            return data, interval\n",
    "    return data, intervals[-1]  # Return data with the largest interval if all are above 5000 bars\n",
    "\n",
    "def calculate_volume_profile(data, bins=25, volume_type='Up/Down'):\n",
    "    \"\"\"\n",
    "    Calculate the volume profile.\n",
    "    :param data: DataFrame with stock data\n",
    "    :param bins: Number of bins for price levels\n",
    "    :param volume_type: Type of volume to display ('Total', 'Up/Down', 'Delta')\n",
    "    :return: volume profile DataFrame\n",
    "    \"\"\"\n",
    "    price_min = data['Low'].min()\n",
    "    price_max = data['High'].max()\n",
    "    bin_edges = np.linspace(price_min, price_max, bins + 1)\n",
    "    \n",
    "    volume_profile = pd.DataFrame(index=bin_edges[:-1], columns=['Total Volume', 'Buy Volume', 'Sell Volume'])\n",
    "    volume_profile['Total Volume'] = 0\n",
    "    volume_profile['Buy Volume'] = 0\n",
    "    volume_profile['Sell Volume'] = 0\n",
    "\n",
    "    for index, row in data.iterrows():\n",
    "        bin_indices = np.digitize([row['Low'], row['High']], bin_edges) - 1\n",
    "        bin_indices = [max(0, min(bins-1, b)) for b in bin_indices]\n",
    "        \n",
    "        volume = row['Volume']\n",
    "        if row['Close'] > row['Open']:\n",
    "            buy_volume = volume\n",
    "            sell_volume = 0\n",
    "        else:\n",
    "            buy_volume = 0\n",
    "            sell_volume = volume\n",
    "        \n",
    "        for i in range(bin_indices[0], bin_indices[1] + 1):\n",
    "            volume_profile.iloc[i]['Total Volume'] += volume\n",
    "            volume_profile.iloc[i]['Buy Volume'] += buy_volume\n",
    "            volume_profile.iloc[i]['Sell Volume'] += sell_volume\n",
    "    \n",
    "    if volume_type == 'Total':\n",
    "        volume_profile['Volume'] = volume_profile['Total Volume']\n",
    "    elif volume_type == 'Up/Down':\n",
    "        volume_profile['Volume'] = volume_profile['Buy Volume'] - volume_profile['Sell Volume']\n",
    "    elif volume_type == 'Delta':\n",
    "        volume_profile['Volume'] = volume_profile['Buy Volume'] + volume_profile['Sell Volume']\n",
    "    \n",
    "    return volume_profile\n",
    "\n",
    "def plot_volume_profile(volume_profile, title):\n",
    "    \"\"\"\n",
    "    Plot the volume profile.\n",
    "    :param volume_profile: DataFrame with volume profile\n",
    "    :param title: Title for the plot\n",
    "    \"\"\"\n",
    "    plt.figure(figsize=(10, 6))\n",
    "    plt.barh(volume_profile.index, volume_profile['Buy Volume'], height=volume_profile.index[1] - volume_profile.index[0], color='blue', alpha=0.6, label='Buy Volume')\n",
    "    plt.barh(volume_profile.index, volume_profile['Sell Volume'], height=volume_profile.index[1] - volume_profile.index[0], color='red', alpha=0.6, label='Sell Volume', left=volume_profile['Buy Volume'])\n",
    "    plt.xlabel('Volume')\n",
    "    plt.ylabel('Price')\n",
    "    plt.title(title)\n",
    "    plt.legend()\n",
    "    plt.show()\n",
    "\n",
    "# Example usage\n",
    "ticker = 'AAPL'\n",
    "start_date = '2024-07-16'\n",
    "\n",
    "data, selected_interval = fetch_stock_data(ticker, start=start_date)\n",
    "volume_profile = calculate_volume_profile(data, bins=25, volume_type='Up/Down')\n",
    "plot_volume_profile(volume_profile, title=f'Volume Profile for {ticker} on {start_date} (Interval: {selected_interval})')\n"
   ]
  },
  {
   "cell_type": "code",
   "execution_count": null,
   "id": "28dbe32b",
   "metadata": {},
   "outputs": [],
   "source": []
  }
 ],
 "metadata": {
  "kernelspec": {
   "display_name": "Python 3 (ipykernel)",
   "language": "python",
   "name": "python3"
  },
  "language_info": {
   "codemirror_mode": {
    "name": "ipython",
    "version": 3
   },
   "file_extension": ".py",
   "mimetype": "text/x-python",
   "name": "python",
   "nbconvert_exporter": "python",
   "pygments_lexer": "ipython3",
   "version": "3.9.12"
  }
 },
 "nbformat": 4,
 "nbformat_minor": 5
}
